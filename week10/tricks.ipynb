{
 "cells": [
  {
   "cell_type": "markdown",
   "metadata": {
    "slideshow": {
     "slide_type": "slide"
    }
   },
   "source": [
    "# Tricks"
   ]
  },
  {
   "cell_type": "code",
   "execution_count": 42,
   "metadata": {
    "slideshow": {
     "slide_type": "slide"
    }
   },
   "outputs": [],
   "source": [
    "pets = [\"dog\", \"goat\", \"pig\", \"sheep\", \"cattle\", \"zebu\", \"cat\", \"chicken\",\n",
    "        \"guinea pig\", \"donkey\", \"duck\", \"water buffalo\",\n",
    "        \"western honey bee\", \"dromedary camel\", \"horse\", \"silkmoth\",\n",
    "        \"pigeon\", \"goose\", \"yak\", \"bactrian camel\", \"llama\", \"alpaca\",\n",
    "        \"guineafowl\", \"ferret\", \"muscovy duck\", \"barbary dove\",\n",
    "        \"bali cattle\", \"gayal\", \"turkey\", \"goldfish\", \"rabbit\", \"koi\",\n",
    "        \"canary\", \"society finch\", \"fancy mouse\", \"siamese fighting fish\",\n",
    "        \"fancy rat and lab rat\", \"mink\", \"red fox\", \"hedgehog\", \"guppy\"]\n",
    "\n",
    "numbers = range(30)\n",
    "\n",
    "message_dict = {\"name\": \"Ben\",\n",
    "                \"Year\": 2019,\n",
    "                \"Location\": \"Sydney\",\n",
    "                \"Greeting\": \"Yo whatup now and give a brother room\",\n",
    "                \"Fact\": \"It would take 1,200,000 mosquitoes, each \" +\n",
    "                        \"sucking once, to completely drain the \" +\n",
    "                        \"average human of blood\",\n",
    "                \"Alphabet Inc Class A\": \"847.80USD\",\n",
    "                \"fruit\": [\"apple\", \"apricot\", \"avocado\", \"abiu\"]}"
   ]
  },
  {
   "cell_type": "markdown",
   "metadata": {
    "slideshow": {
     "slide_type": "slide"
    }
   },
   "source": [
    "# Slicing"
   ]
  },
  {
   "cell_type": "code",
   "execution_count": 13,
   "metadata": {},
   "outputs": [
    {
     "name": "stdout",
     "output_type": "stream",
     "text": [
      "\n",
      " [:10]  → ['dog', 'goat', 'pig', 'sheep', 'cattle', 'zebu', 'cat', 'chicken', 'guinea pig', 'donkey']\n",
      "\n",
      " [35:]  → ['siamese fighting fish', 'fancy rat and lab rat', 'mink', 'red fox', 'hedgehog', 'guppy']\n",
      "\n",
      " [4:20] → ['cattle', 'zebu', 'cat', 'chicken', 'guinea pig', 'donkey', 'duck', 'water buffalo', 'western honey bee', 'dromedary camel', 'horse', 'silkmoth', 'pigeon', 'goose', 'yak', 'bactrian camel']\n",
      "\n",
      " [:-35] → ['dog', 'goat', 'pig', 'sheep', 'cattle', 'zebu']\n",
      "\n",
      " [::-1] → ['guppy', 'hedgehog', 'red fox', 'mink', 'fancy rat and lab rat', 'siamese fighting fish', 'fancy mouse', 'society finch', 'canary', 'koi', 'rabbit', 'goldfish', 'turkey', 'gayal', 'bali cattle', 'barbary dove', 'muscovy duck', 'ferret', 'guineafowl', 'alpaca', 'llama', 'bactrian camel', 'yak', 'goose', 'pigeon', 'silkmoth', 'horse', 'dromedary camel', 'western honey bee', 'water buffalo', 'duck', 'donkey', 'guinea pig', 'chicken', 'cat', 'zebu', 'cattle', 'sheep', 'pig', 'goat', 'dog']\n"
     ]
    },
    {
     "data": {
      "text/plain": [
       "['cattle', 'zebu', 'cat', 'chicken', 'guinea pig', 'donkey']"
      ]
     },
     "execution_count": 13,
     "metadata": {},
     "output_type": "execute_result"
    }
   ],
   "source": [
    "# pets = range(40)\n",
    "print (\"\\n [:10]  →\", pets[:10])\n",
    "print (\"\\n [35:]  →\", pets[35:])\n",
    "print (\"\\n [4:20] →\", pets[4:20])\n",
    "print (\"\\n [:-35] →\", pets[:-35])\n",
    "print (\"\\n [::-1] →\", pets[::-1])\n",
    "some_pets = pets[4:10]\n",
    "some_pets"
   ]
  },
  {
   "cell_type": "markdown",
   "metadata": {
    "slideshow": {
     "slide_type": "slide"
    }
   },
   "source": [
    "# Append vs Extend"
   ]
  },
  {
   "cell_type": "code",
   "execution_count": 14,
   "metadata": {
    "slideshow": {
     "slide_type": "fragment"
    }
   },
   "outputs": [
    {
     "name": "stdout",
     "output_type": "stream",
     "text": [
      "[range(0, 30), ['cattle', 'zebu', 'cat', 'chicken', 'guinea pig', 'donkey']]\n"
     ]
    }
   ],
   "source": [
    "new_list = []\n",
    "new_list.append(numbers)\n",
    "new_list.append(some_pets)\n",
    "print(new_list)"
   ]
  },
  {
   "cell_type": "code",
   "execution_count": 15,
   "metadata": {
    "slideshow": {
     "slide_type": "fragment"
    }
   },
   "outputs": [
    {
     "name": "stdout",
     "output_type": "stream",
     "text": [
      "[0, 1, 2, 3, 4, 5, 6, 7, 8, 9, 10, 11, 12, 13, 14, 15, 16, 17, 18, 19, 20, 21, 22, 23, 24, 25, 26, 27, 28, 29, 'cattle', 'zebu', 'cat', 'chicken', 'guinea pig', 'donkey']\n"
     ]
    }
   ],
   "source": [
    "another_new_list = []\n",
    "another_new_list.extend(numbers)\n",
    "another_new_list.extend(some_pets)\n",
    "print(another_new_list)"
   ]
  },
  {
   "cell_type": "markdown",
   "metadata": {
    "slideshow": {
     "slide_type": "slide"
    }
   },
   "source": [
    "# Truthy values"
   ]
  },
  {
   "cell_type": "code",
   "execution_count": 16,
   "metadata": {
    "slideshow": {
     "slide_type": "fragment"
    }
   },
   "outputs": [],
   "source": [
    "thing = False\n",
    "if thing:\n",
    "    print (\"You'll never see me\")"
   ]
  },
  {
   "cell_type": "code",
   "execution_count": 17,
   "metadata": {
    "slideshow": {
     "slide_type": "fragment"
    }
   },
   "outputs": [
    {
     "name": "stdout",
     "output_type": "stream",
     "text": [
      "Woah, look at me!\n"
     ]
    }
   ],
   "source": [
    "thing = \"hi!\"\n",
    "if thing:\n",
    "    print (\"Woah, look at me!\" )"
   ]
  },
  {
   "cell_type": "code",
   "execution_count": 18,
   "metadata": {
    "slideshow": {
     "slide_type": "fragment"
    }
   },
   "outputs": [],
   "source": [
    "thing = None\n",
    "if thing:\n",
    "    print (\"I'm a sneaky snake\")"
   ]
  },
  {
   "cell_type": "markdown",
   "metadata": {
    "slideshow": {
     "slide_type": "slide"
    }
   },
   "source": [
    "# List comprehensions"
   ]
  },
  {
   "cell_type": "code",
   "execution_count": 19,
   "metadata": {
    "slideshow": {
     "slide_type": "fragment"
    }
   },
   "outputs": [
    {
     "name": "stdout",
     "output_type": "stream",
     "text": [
      "[3, 4, 3, 5, 6, 4, 3, 7, 10, 6, 4, 13, 17, 15, 5, 8, 6, 5, 3, 14, 5, 6, 10, 6, 12, 12, 11, 5, 6, 8, 6, 3, 6, 13, 11, 21, 21, 4, 7, 8, 5]\n"
     ]
    }
   ],
   "source": [
    "pet_name_lengths = []\n",
    "for p in pets:\n",
    "    pet_name_lengths.append(len(p))\n",
    "    \n",
    "print (pet_name_lengths)"
   ]
  },
  {
   "cell_type": "code",
   "execution_count": 20,
   "metadata": {
    "slideshow": {
     "slide_type": "fragment"
    }
   },
   "outputs": [
    {
     "name": "stdout",
     "output_type": "stream",
     "text": [
      "[3, 4, 3, 5, 6, 4, 3, 7, 10, 6, 4, 13, 17, 15, 5, 8, 6, 5, 3, 14, 5, 6, 10, 6, 12, 12, 11, 5, 6, 8, 6, 3, 6, 13, 11, 21, 21, 4, 7, 8, 5]\n"
     ]
    }
   ],
   "source": [
    "pet_name_lengths = [len(p) for p in pets]\n",
    "print (pet_name_lengths)"
   ]
  },
  {
   "cell_type": "markdown",
   "metadata": {
    "slideshow": {
     "slide_type": "slide"
    }
   },
   "source": [
    "# λambdas "
   ]
  },
  {
   "cell_type": "code",
   "execution_count": 21,
   "metadata": {
    "slideshow": {
     "slide_type": "fragment"
    }
   },
   "outputs": [
    {
     "name": "stdout",
     "output_type": "stream",
     "text": [
      "<map object at 0x000001B4EC118518>\n"
     ]
    }
   ],
   "source": [
    "def get_2x_len(my_string):\n",
    "    return len(my_string) * 2\n",
    "\n",
    "print (map(get_2x_len, pets))"
   ]
  },
  {
   "cell_type": "code",
   "execution_count": 22,
   "metadata": {
    "slideshow": {
     "slide_type": "fragment"
    }
   },
   "outputs": [
    {
     "name": "stdout",
     "output_type": "stream",
     "text": [
      "<map object at 0x000001B4EC1180B8>\n"
     ]
    }
   ],
   "source": [
    "# print (map(lambda x: len(x) * 2, pets))\n",
    "print (map(lambda x: x[1], pets))"
   ]
  },
  {
   "cell_type": "code",
   "execution_count": 23,
   "metadata": {
    "slideshow": {
     "slide_type": "fragment"
    }
   },
   "outputs": [
    {
     "name": "stdout",
     "output_type": "stream",
     "text": [
      "<map object at 0x000001B4EC1182B0>\n"
     ]
    }
   ],
   "source": [
    "print (map(len, pets))"
   ]
  },
  {
   "cell_type": "markdown",
   "metadata": {
    "slideshow": {
     "slide_type": "slide"
    }
   },
   "source": [
    "# Built ins"
   ]
  },
  {
   "cell_type": "code",
   "execution_count": 24,
   "metadata": {
    "slideshow": {
     "slide_type": "-"
    }
   },
   "outputs": [],
   "source": [
    "from random import randint\n",
    "my_odd_list = [randint(0,100) for _ in range(1000)]"
   ]
  },
  {
   "cell_type": "code",
   "execution_count": 25,
   "metadata": {
    "slideshow": {
     "slide_type": "fragment"
    }
   },
   "outputs": [
    {
     "data": {
      "text/plain": [
       "100"
      ]
     },
     "execution_count": 25,
     "metadata": {},
     "output_type": "execute_result"
    }
   ],
   "source": [
    "max(my_odd_list)"
   ]
  },
  {
   "cell_type": "code",
   "execution_count": 26,
   "metadata": {
    "slideshow": {
     "slide_type": "fragment"
    }
   },
   "outputs": [
    {
     "data": {
      "text/plain": [
       "0"
      ]
     },
     "execution_count": 26,
     "metadata": {},
     "output_type": "execute_result"
    }
   ],
   "source": [
    "min(my_odd_list)"
   ]
  },
  {
   "cell_type": "code",
   "execution_count": 27,
   "metadata": {
    "slideshow": {
     "slide_type": "slide"
    }
   },
   "outputs": [
    {
     "data": {
      "text/plain": [
       "<zip at 0x1b4ec136088>"
      ]
     },
     "execution_count": 27,
     "metadata": {},
     "output_type": "execute_result"
    }
   ],
   "source": [
    "zip(range(len(pets)), pets)"
   ]
  },
  {
   "cell_type": "code",
   "execution_count": 28,
   "metadata": {
    "slideshow": {
     "slide_type": "slide"
    }
   },
   "outputs": [
    {
     "name": "stdout",
     "output_type": "stream",
     "text": [
      "(0, 'dog')\n",
      "(1, 'goat')\n",
      "(2, 'pig')\n",
      "(3, 'sheep')\n",
      "(4, 'cattle')\n",
      "(5, 'zebu')\n",
      "(6, 'cat')\n",
      "(7, 'chicken')\n",
      "(8, 'guinea pig')\n",
      "(9, 'donkey')\n",
      "(10, 'duck')\n",
      "(11, 'water buffalo')\n",
      "(12, 'western honey bee')\n",
      "(13, 'dromedary camel')\n",
      "(14, 'horse')\n",
      "(15, 'silkmoth')\n",
      "(16, 'pigeon')\n",
      "(17, 'goose')\n",
      "(18, 'yak')\n",
      "(19, 'bactrian camel')\n",
      "(20, 'llama')\n",
      "(21, 'alpaca')\n",
      "(22, 'guineafowl')\n",
      "(23, 'ferret')\n",
      "(24, 'muscovy duck')\n",
      "(25, 'barbary dove')\n",
      "(26, 'bali cattle')\n",
      "(27, 'gayal')\n",
      "(28, 'turkey')\n",
      "(29, 'goldfish')\n",
      "(30, 'rabbit')\n",
      "(31, 'koi')\n",
      "(32, 'canary')\n",
      "(33, 'society finch')\n",
      "(34, 'fancy mouse')\n",
      "(35, 'siamese fighting fish')\n",
      "(36, 'fancy rat and lab rat')\n",
      "(37, 'mink')\n",
      "(38, 'red fox')\n",
      "(39, 'hedgehog')\n",
      "(40, 'guppy')\n"
     ]
    }
   ],
   "source": [
    "for p in enumerate(pets):\n",
    "    print(p)"
   ]
  },
  {
   "cell_type": "markdown",
   "metadata": {
    "slideshow": {
     "slide_type": "slide"
    }
   },
   "source": [
    "# Generators"
   ]
  },
  {
   "cell_type": "code",
   "execution_count": 40,
   "metadata": {
    "slideshow": {
     "slide_type": "slide"
    }
   },
   "outputs": [],
   "source": [
    "a = enumerate(pets)"
   ]
  },
  {
   "cell_type": "code",
   "execution_count": 41,
   "metadata": {
    "slideshow": {
     "slide_type": "slide"
    }
   },
   "outputs": [
    {
     "name": "stdout",
     "output_type": "stream",
     "text": [
      "(0, 'dog')\n"
     ]
    }
   ],
   "source": [
    "print(next(a))"
   ]
  },
  {
   "cell_type": "code",
   "execution_count": null,
   "metadata": {
    "slideshow": {
     "slide_type": "slide"
    }
   },
   "outputs": [],
   "source": [
    "def a_generator():\n",
    "    counter = 0\n",
    "    while True:\n",
    "        yield counter\n",
    "        counter += 3\n",
    "        \n",
    "g = a_generator()\n",
    "\n",
    "print (g.next())\n",
    "print (g.next())\n",
    "print (g.next())"
   ]
  },
  {
   "cell_type": "markdown",
   "metadata": {},
   "source": [
    "# Dictionary comprehensions"
   ]
  },
  {
   "cell_type": "code",
   "execution_count": null,
   "metadata": {},
   "outputs": [],
   "source": [
    "# all yours terry!\n",
    "L = range(10)\n",
    "d = {k:v for k, v in zip(pets, L)}\n",
    "print (d)\n",
    "import collections\n",
    "d = collections.defaultdict(list)\n",
    "d = collections.Counter()\n",
    "d = collections.Counter(my_odd_list)\n",
    "print (d)\n",
    "print (max(d, key=lambda x: d[x]))"
   ]
  }
 ],
 "metadata": {
  "celltoolbar": "Slideshow",
  "kernelspec": {
   "display_name": "Python 3",
   "language": "python",
   "name": "python3"
  },
  "language_info": {
   "codemirror_mode": {
    "name": "ipython",
    "version": 3
   },
   "file_extension": ".py",
   "mimetype": "text/x-python",
   "name": "python",
   "nbconvert_exporter": "python",
   "pygments_lexer": "ipython3",
   "version": "3.6.5"
  },
  "toc": {
   "colors": {
    "hover_highlight": "#DAA520",
    "navigate_num": "#000000",
    "navigate_text": "#333333",
    "running_highlight": "#FF0000",
    "selected_highlight": "#FFD700",
    "sidebar_border": "#EEEEEE",
    "wrapper_background": "#FFFFFF"
   },
   "moveMenuLeft": true,
   "nav_menu": {
    "height": "174px",
    "width": "252px"
   },
   "navigate_menu": true,
   "number_sections": true,
   "sideBar": true,
   "threshold": 4,
   "toc_cell": false,
   "toc_section_display": "block",
   "toc_window_display": false,
   "widenNotebook": false
  }
 },
 "nbformat": 4,
 "nbformat_minor": 1
}
